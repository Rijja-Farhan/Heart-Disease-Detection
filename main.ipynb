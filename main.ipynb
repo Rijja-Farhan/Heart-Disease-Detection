{
 "cells": [
  {
   "cell_type": "markdown",
   "metadata": {},
   "source": [
    "##Predicting heart disease using machine learning\n",
    "#Author: Rijja Farhan\n",
    "#Date: 26/11/2023\n",
    "This notebook looks into various python-based machine learning and data science libraries in an attempt to build a machine learning model capable of predicting whether or not somoeone hase heart disease based on their medical attributes\n",
    "\n",
    "we will use the following approach:\n",
    "1- problem definaton\n",
    "2- data\n",
    "3- evaluation\n",
    "5- modeling\n",
    "6- experiment\n",
    "\n",
    "##problem defination\n",
    "\n",
    "in a statement, \n",
    ">given clinical parameters about a patient , can we predict whether or not they have heart disease\n",
    "\n",
    "##2- data:\n",
    "\n",
    "the orignal data comes form the Cleavland data from UCI Machine Learning repository.\n",
    "\n",
    "\n",
    "##3 evaluation\n",
    "\n",
    "> if we can reach 95% accuracy at predicting whether or not a patient has heart disease during the roof of concept, we'll persue the project"
   ]
  },
  {
   "cell_type": "code",
   "execution_count": 3,
   "metadata": {},
   "outputs": [],
   "source": [
    "\n",
    "#PREPARING THE TOOLS(LIBRARIES AND IMPORTS ) THAT WE WILL NEED\n",
    "\n",
    "#importing regular EDA(exploratory data analysis) and plotting librarires\n",
    "import numpy as numpy\n",
    "import pandas as pd\n",
    "import matplotlib.pyplot as plt\n",
    "import seaborn as sns\n",
    "\n",
    "#models from scikit-learn\n",
    "from sklearn.linear_model import LogisticRegression\n",
    "from sklearn.neighbors import KNeighborsClassifier\n",
    "from sklearn.ensemble import RandomForestClassifier\n",
    "\n",
    "#modle evaluations\n",
    "\n",
    "from sklearn.model_selection import train_test_split,cross_val_score\n",
    "from sklearn.model_selection import RandomizedSearchCV, GridSearchCV\n",
    "from sklearn.metrics import confusion_matrix, classification_report\n",
    "from sklearn.metrics import precision_score, recall_score, f1_score\n",
    "#from sklearn.metrics import plot_roc_curve\n",
    "from sklearn.metrics import RocCurveDisplay"
   ]
  },
  {
   "cell_type": "code",
   "execution_count": 2,
   "metadata": {},
   "outputs": [
    {
     "data": {
      "text/plain": [
       "(303, 14)"
      ]
     },
     "execution_count": 2,
     "metadata": {},
     "output_type": "execute_result"
    }
   ],
   "source": [
    "#load data\n",
    "\n",
    "df = pd.read_csv('heart-disease.csv')\n",
    "df.shape #(rows, columns)"
   ]
  },
  {
   "cell_type": "markdown",
   "metadata": {},
   "source": []
  },
  {
   "cell_type": "code",
   "execution_count": null,
   "metadata": {},
   "outputs": [],
   "source": []
  }
 ],
 "metadata": {
  "kernelspec": {
   "display_name": "myenv1",
   "language": "python",
   "name": "python3"
  },
  "language_info": {
   "codemirror_mode": {
    "name": "ipython",
    "version": 3
   },
   "file_extension": ".py",
   "mimetype": "text/x-python",
   "name": "python",
   "nbconvert_exporter": "python",
   "pygments_lexer": "ipython3",
   "version": "3.11.5"
  }
 },
 "nbformat": 4,
 "nbformat_minor": 2
}
